{
 "cells": [
  {
   "cell_type": "code",
   "execution_count": 1,
   "metadata": {},
   "outputs": [
    {
     "name": "stderr",
     "output_type": "stream",
     "text": [
      "p:\\python\\Rebecka\\Dropout\\preprocessing\\data_loading.py:29: SyntaxWarning: invalid escape sequence '\\o'\n",
      "  lazy_df = pl.scan_csv(f\"{self.data_path}\\ordcustprod.csv\", has_header=True,infer_schema_length=5000,low_memory=True, try_parse_dates=True,encoding=\"utf8\",\n",
      "p:\\python\\Rebecka\\Dropout\\preprocessing\\data_loading.py:33: SyntaxWarning: invalid escape sequence '\\A'\n",
      "  art_info = pl.read_csv(f\"{self.data_path}\\ART_INFO.csv\", has_header=True)\n",
      "p:\\python\\Rebecka\\Dropout\\preprocessing\\data_loading.py:34: SyntaxWarning: invalid escape sequence '\\m'\n",
      "  molecules = pl.read_csv(f\"{self.data_path}\\molecules.csv\", has_header=True)\n",
      "p:\\python\\Rebecka\\Dropout\\preprocessing\\data_loading.py:52: SyntaxWarning: invalid escape sequence '\\M'\n",
      "  complaints = pl.read_excel(f\"{self.data_path}\\MVS.xlsx\", has_header=True)\n"
     ]
    }
   ],
   "source": [
    "from data_loading import Config, DataLoader"
   ]
  },
  {
   "cell_type": "code",
   "execution_count": null,
   "metadata": {},
   "outputs": [],
   "source": [
    "config = Config(config_path='../utils/config.yaml')\n",
    "data_loader = DataLoader(config, exclude_product_type=None, nr_rows=100000)\n",
    "df = data_loader.load_datasets(segment=None) # "
   ]
  },
  {
   "cell_type": "code",
   "execution_count": 9,
   "metadata": {},
   "outputs": [
    {
     "name": "stderr",
     "output_type": "stream",
     "text": [
      "p:\\python\\Rebecka\\.venv\\Lib\\site-packages\\tqdm\\auto.py:21: TqdmWarning: IProgress not found. Please update jupyter and ipywidgets. See https://ipywidgets.readthedocs.io/en/stable/user_install.html\n",
      "  from .autonotebook import tqdm as notebook_tqdm\n"
     ]
    },
    {
     "ename": "FileNotFoundError",
     "evalue": "[Errno 2] No such file or directory: 'config.yaml'",
     "output_type": "error",
     "traceback": [
      "\u001b[1;31m---------------------------------------------------------------------------\u001b[0m",
      "\u001b[1;31mFileNotFoundError\u001b[0m                         Traceback (most recent call last)",
      "Cell \u001b[1;32mIn[9], line 1\u001b[0m\n\u001b[1;32m----> 1\u001b[0m \u001b[38;5;28;01mfrom\u001b[39;00m \u001b[38;5;21;01mpreprocessing\u001b[39;00m \u001b[38;5;28;01mimport\u001b[39;00m Preprocessor\n",
      "File \u001b[1;32mp:\\python\\Rebecka\\Dropout\\preprocessing\\preprocessing.py:24\u001b[0m\n\u001b[0;32m     21\u001b[0m \u001b[38;5;28;01mfrom\u001b[39;00m \u001b[38;5;21;01mtqdm\u001b[39;00m \u001b[38;5;28;01mimport\u001b[39;00m tqdm\n\u001b[0;32m     23\u001b[0m \u001b[38;5;66;03m# Set paths from config\u001b[39;00m\n\u001b[1;32m---> 24\u001b[0m \u001b[38;5;28;01mwith\u001b[39;00m \u001b[38;5;28;43mopen\u001b[39;49m\u001b[43m(\u001b[49m\u001b[38;5;124;43m\"\u001b[39;49m\u001b[38;5;124;43mconfig.yaml\u001b[39;49m\u001b[38;5;124;43m\"\u001b[39;49m\u001b[43m,\u001b[49m\u001b[43m \u001b[49m\u001b[38;5;124;43m\"\u001b[39;49m\u001b[38;5;124;43mr\u001b[39;49m\u001b[38;5;124;43m\"\u001b[39;49m\u001b[43m)\u001b[49m \u001b[38;5;28;01mas\u001b[39;00m f:\n\u001b[0;32m     25\u001b[0m     config \u001b[38;5;241m=\u001b[39m yaml\u001b[38;5;241m.\u001b[39msafe_load(f)\n\u001b[0;32m     28\u001b[0m \u001b[38;5;28;01mclass\u001b[39;00m \u001b[38;5;21;01mPreprocessor\u001b[39;00m:\n",
      "\u001b[1;31mFileNotFoundError\u001b[0m: [Errno 2] No such file or directory: 'config.yaml'"
     ]
    }
   ],
   "source": [
    "from preprocessing import Preprocessor"
   ]
  }
 ],
 "metadata": {
  "kernelspec": {
   "display_name": ".venv",
   "language": "python",
   "name": "python3"
  },
  "language_info": {
   "codemirror_mode": {
    "name": "ipython",
    "version": 3
   },
   "file_extension": ".py",
   "mimetype": "text/x-python",
   "name": "python",
   "nbconvert_exporter": "python",
   "pygments_lexer": "ipython3",
   "version": "3.12.5"
  }
 },
 "nbformat": 4,
 "nbformat_minor": 2
}
